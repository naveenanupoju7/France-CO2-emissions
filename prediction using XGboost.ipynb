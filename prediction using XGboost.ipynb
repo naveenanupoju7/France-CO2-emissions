{
 "cells": [
  {
   "cell_type": "code",
   "execution_count": 45,
   "metadata": {},
   "outputs": [
    {
     "name": "stderr",
     "output_type": "stream",
     "text": [
      "c:\\users\\naveen anupoju\\appdata\\local\\programs\\python\\python39\\lib\\site-packages\\xgboost\\data.py:104: UserWarning: Use subset (sliced data) of np.ndarray is not recommended because it will generate extra copies and increase memory consumption\n",
      "  warnings.warn(\n"
     ]
    },
    {
     "name": "stdout",
     "output_type": "stream",
     "text": [
      ">expected=392.7, predicted=374.5\n",
      ">expected=400.9, predicted=396.6\n",
      ">expected=426.3, predicted=394.8\n",
      ">expected=415.6, predicted=435.7\n",
      ">expected=395.7, predicted=422.2\n",
      ">expected=390.5, predicted=381.7\n",
      ">expected=397.6, predicted=387.2\n",
      ">expected=413.1, predicted=398.6\n",
      ">expected=406.0, predicted=413.6\n",
      ">expected=425.4, predicted=396.6\n",
      ">expected=421.6, predicted=404.4\n",
      ">expected=416.1, predicted=407.5\n",
      ">expected=420.7, predicted=408.8\n",
      ">expected=415.9, predicted=418.4\n",
      ">expected=422.6, predicted=417.6\n",
      ">expected=423.7, predicted=418.5\n",
      ">expected=427.0, predicted=424.0\n",
      ">expected=416.1, predicted=424.8\n",
      ">expected=405.6, predicted=411.0\n",
      ">expected=399.3, predicted=414.2\n",
      ">expected=382.2, predicted=414.5\n",
      ">expected=389.8, predicted=388.2\n",
      ">expected=365.2, predicted=384.2\n",
      ">expected=365.8, predicted=391.1\n",
      ">expected=366.9, predicted=368.5\n",
      ">expected=335.4, predicted=367.1\n",
      ">expected=341.1, predicted=362.2\n",
      ">expected=343.0, predicted=351.5\n",
      ">expected=346.5, predicted=345.8\n",
      ">expected=337.9, predicted=364.9\n",
      "RMSE: 17.254\n"
     ]
    },
    {
     "data": {
      "image/png": "[encoded data removed]",
      "text/plain": [
       "<Figure size 432x288 with 1 Axes>"
      ]
     },
     "metadata": {
      "needs_background": "light"
     },
     "output_type": "display_data"
    }
   ],
   "source": [
    "from numpy import asarray\n",
    "from pandas import read_csv\n",
    "from pandas import DataFrame\n",
    "from pandas import concat\n",
    "from sklearn.metrics import mean_squared_error\n",
    "from xgboost import XGBRegressor\n",
    "from matplotlib import pyplot\n",
    "\n",
    "# transform a time series dataset into a supervised learning dataset\n",
    "def series_to_supervised(data, n_in=1, n_out=1, dropnan=True):\n",
    "    n_vars = 1 if type(data) is list else data.shape[1]\n",
    "    df = DataFrame(data)\n",
    "    cols = list()\n",
    "    # input sequence (t-n, ... t-1)\n",
    "    for i in range(n_in, 0, -1):\n",
    "        cols.append(df.shift(i))\n",
    "    # forecast sequence (t, t+1, ... t+n)\n",
    "    for i in range(0, n_out):\n",
    "        cols.append(df.shift(-i))\n",
    "    # put it all together\n",
    "    agg = concat(cols, axis=1)\n",
    "    # drop rows with NaN values\n",
    "    if dropnan:\n",
    "        agg.dropna(inplace=True)\n",
    "    return agg.values\n",
    "\n",
    "# split a univariate dataset into train/test sets\n",
    "def train_test_split(data, n_test):\n",
    "    return data[:-n_test, :], data[-n_test:, :]\n",
    "\n",
    "# fit an xgboost model and make a one step prediction\n",
    "def xgboost_forecast(train, testX):\n",
    "    # transform list into array\n",
    "    train = asarray(train)\n",
    "    # split into input and output columns\n",
    "    trainX, trainy = train[:, :-1], train[:, -1]\n",
    "    # fit model\n",
    "    model = XGBRegressor(objective='reg:squarederror', n_estimators=2000)\n",
    "    model.fit(trainX, trainy)\n",
    "    # make a one-step prediction\n",
    "    yhat = model.predict(asarray([testX]))\n",
    "    return yhat[0]\n",
    "\n",
    "# walk-forward validation for univariate data\n",
    "def walk_forward_validation(data, n_test):\n",
    "    predictions = list()\n",
    "    # split dataset\n",
    "    train, test = train_test_split(data, n_test)\n",
    "    # seed history with training dataset\n",
    "    history = [x for x in train]\n",
    "    # step over each time-step in the test set\n",
    "    for i in range(len(test)):\n",
    "        # split test row into input and output columns\n",
    "        testX, testy = test[i, :-1], test[i, -1]\n",
    "        # fit model on history and make a prediction\n",
    "        yhat = xgboost_forecast(history, testX)\n",
    "        # store forecast in list of predictions\n",
    "        predictions.append(yhat)\n",
    "        # add actual observation to history for the next loop\n",
    "        history.append(test[i])\n",
    "        # summarize progress\n",
    "        print('>expected=%.1f, predicted=%.1f' % (testy, yhat))\n",
    " # estimate prediction error\n",
    "    error = mean_squared_error(test[:, -1], predictions,squared=False)\n",
    "    return error, test[:, -1], predictions\n",
    "\n",
    "# load the dataset\n",
    "series=pd.read_excel(r'France-Emissions.xlsx',\n",
    "                   index_col=0,\n",
    "                   #parse_dates=True,\n",
    "                   #squeeze=True,\n",
    "                   header=0,\n",
    "                   engine='openpyxl')\n",
    "series=series[['co2']]\n",
    "\n",
    "values = series.values\n",
    "# transform the time series data into supervised learning\n",
    "data = series_to_supervised(values, n_in=6)\n",
    "# evaluate\n",
    "mae, y, yhat = walk_forward_validation(data, 30)\n",
    "print('RMSE: %.3f' % mae)\n",
    "# plot expected vs preducted\n",
    "pyplot.plot(y, label='Expected')\n",
    "pyplot.plot(yhat, label='Predicted')\n",
    "pyplot.legend()\n",
    "pyplot.show()"
   ]
  },
  {
   "cell_type": "code",
   "execution_count": null,
   "metadata": {},
   "outputs": [],
   "source": []
  },
  {
   "cell_type": "code",
   "execution_count": null,
   "metadata": {},
   "outputs": [],
   "source": []
  },
  {
   "cell_type": "code",
   "execution_count": null,
   "metadata": {},
   "outputs": [],
   "source": []
  }
 ],
 "metadata": {
  "kernelspec": {
   "display_name": "Python 3",
   "language": "python",
   "name": "python3"
  },
  "language_info": {
   "codemirror_mode": {
    "name": "ipython",
    "version": 3
   },
   "file_extension": ".py",
   "mimetype": "text/x-python",
   "name": "python",
   "nbconvert_exporter": "python",
   "pygments_lexer": "ipython3",
   "version": "3.9.1"
  }
 },
 "nbformat": 4,
 "nbformat_minor": 4
}
